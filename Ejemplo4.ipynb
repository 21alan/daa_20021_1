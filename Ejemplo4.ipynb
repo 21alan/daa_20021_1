{
  "nbformat": 4,
  "nbformat_minor": 0,
  "metadata": {
    "colab": {
      "name": "Ejemplo4.ipynb",
      "provenance": [],
      "authorship_tag": "ABX9TyN3LgoXYZ2ojhvn8ro9Ixk+",
      "include_colab_link": true
    },
    "kernelspec": {
      "name": "python3",
      "display_name": "Python 3"
    }
  },
  "cells": [
    {
      "cell_type": "markdown",
      "metadata": {
        "id": "view-in-github",
        "colab_type": "text"
      },
      "source": [
        "<a href=\"https://colab.research.google.com/github/21alan/daa_20021_1/blob/master/Ejemplo4.ipynb\" target=\"_parent\"><img src=\"https://colab.research.google.com/assets/colab-badge.svg\" alt=\"Open In Colab\"/></a>"
      ]
    },
    {
      "cell_type": "code",
      "metadata": {
        "id": "wcFDIvkGiVJo",
        "outputId": "fcfdf8c5-ad36-4d82-dc66-7c18c1686fc1",
        "colab": {
          "base_uri": "https://localhost:8080/",
          "height": 833
        }
      },
      "source": [
        "def ejemplo4(n):\n",
        "    print(\"--------------------------------------------\")\n",
        "    count=0\n",
        "    i=n\n",
        "    print(\"primer nivel\")\n",
        "    while i>=1:\n",
        "        count+=1\n",
        "        i=i//2\n",
        "        print(\"segundo nivel\")\n",
        "    basura=3+2\n",
        "    return count\n",
        "\n",
        "print(ejemplo4(32))\n",
        "print(ejemplo4(256))\n",
        "print(ejemplo4(8))\n",
        "print(ejemplo4(65536))\n"
      ],
      "execution_count": 10,
      "outputs": [
        {
          "output_type": "stream",
          "text": [
            "--------------------------------------------\n",
            "primer nivel\n",
            "segundo nivel\n",
            "segundo nivel\n",
            "segundo nivel\n",
            "segundo nivel\n",
            "segundo nivel\n",
            "segundo nivel\n",
            "6\n",
            "--------------------------------------------\n",
            "primer nivel\n",
            "segundo nivel\n",
            "segundo nivel\n",
            "segundo nivel\n",
            "segundo nivel\n",
            "segundo nivel\n",
            "segundo nivel\n",
            "segundo nivel\n",
            "segundo nivel\n",
            "segundo nivel\n",
            "9\n",
            "--------------------------------------------\n",
            "primer nivel\n",
            "segundo nivel\n",
            "segundo nivel\n",
            "segundo nivel\n",
            "segundo nivel\n",
            "4\n",
            "--------------------------------------------\n",
            "primer nivel\n",
            "segundo nivel\n",
            "segundo nivel\n",
            "segundo nivel\n",
            "segundo nivel\n",
            "segundo nivel\n",
            "segundo nivel\n",
            "segundo nivel\n",
            "segundo nivel\n",
            "segundo nivel\n",
            "segundo nivel\n",
            "segundo nivel\n",
            "segundo nivel\n",
            "segundo nivel\n",
            "segundo nivel\n",
            "segundo nivel\n",
            "segundo nivel\n",
            "segundo nivel\n",
            "17\n"
          ],
          "name": "stdout"
        }
      ]
    }
  ]
}