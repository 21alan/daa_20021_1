{
  "nbformat": 4,
  "nbformat_minor": 0,
  "metadata": {
    "colab": {
      "name": "Ejemplo4.ipynb",
      "provenance": [],
      "authorship_tag": "ABX9TyMgTC1xtKCvrssZ7Qf2op6u",
      "include_colab_link": true
    },
    "kernelspec": {
      "name": "python3",
      "display_name": "Python 3"
    }
  },
  "cells": [
    {
      "cell_type": "markdown",
      "metadata": {
        "id": "view-in-github",
        "colab_type": "text"
      },
      "source": [
        "<a href=\"https://colab.research.google.com/github/21alan/daa_20021_1/blob/master/Ejemplo4.ipynb\" target=\"_parent\"><img src=\"https://colab.research.google.com/assets/colab-badge.svg\" alt=\"Open In Colab\"/></a>"
      ]
    },
    {
      "cell_type": "code",
      "metadata": {
        "id": "wcFDIvkGiVJo",
        "outputId": "79152c3d-2f1c-43c0-edcb-ba3e5ba74e78",
        "colab": {
          "base_uri": "https://localhost:8080/",
          "height": 969
        }
      },
      "source": [
        "def ejemplo4(n):\n",
        "    print(\"--------------------------------------------\")\n",
        "    print(\"primer nivel 1\")\n",
        "    count=0\n",
        "    print(\"primer nivel 2\")\n",
        "    i=n\n",
        "    while i>=1:\n",
        "        print(\"primer nivel 3\")\n",
        "        count+=1\n",
        "        i=i//2\n",
        "    print(\"primer nivel 4\")\n",
        "    basura=3+2\n",
        "    return count\n",
        "\n",
        "print(ejemplo4(32))\n",
        "print(ejemplo4(256))\n",
        "print(ejemplo4(8))\n",
        "print(ejemplo4(65536))\n"
      ],
      "execution_count": null,
      "outputs": [
        {
          "output_type": "stream",
          "text": [
            "--------------------------------------------\n",
            "primer nivel 1\n",
            "primer nivel 2\n",
            "primer nivel 3\n",
            "primer nivel 3\n",
            "primer nivel 3\n",
            "primer nivel 3\n",
            "primer nivel 3\n",
            "primer nivel 3\n",
            "primer nivel 4\n",
            "6\n",
            "--------------------------------------------\n",
            "primer nivel 1\n",
            "primer nivel 2\n",
            "primer nivel 3\n",
            "primer nivel 3\n",
            "primer nivel 3\n",
            "primer nivel 3\n",
            "primer nivel 3\n",
            "primer nivel 3\n",
            "primer nivel 3\n",
            "primer nivel 3\n",
            "primer nivel 3\n",
            "primer nivel 4\n",
            "9\n",
            "--------------------------------------------\n",
            "primer nivel 1\n",
            "primer nivel 2\n",
            "primer nivel 3\n",
            "primer nivel 3\n",
            "primer nivel 3\n",
            "primer nivel 3\n",
            "primer nivel 4\n",
            "4\n",
            "--------------------------------------------\n",
            "primer nivel 1\n",
            "primer nivel 2\n",
            "primer nivel 3\n",
            "primer nivel 3\n",
            "primer nivel 3\n",
            "primer nivel 3\n",
            "primer nivel 3\n",
            "primer nivel 3\n",
            "primer nivel 3\n",
            "primer nivel 3\n",
            "primer nivel 3\n",
            "primer nivel 3\n",
            "primer nivel 3\n",
            "primer nivel 3\n",
            "primer nivel 3\n",
            "primer nivel 3\n",
            "primer nivel 3\n",
            "primer nivel 3\n",
            "primer nivel 3\n",
            "primer nivel 4\n",
            "17\n"
          ],
          "name": "stdout"
        }
      ]
    }
  ]
}