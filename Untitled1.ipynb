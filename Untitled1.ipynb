{
  "nbformat": 4,
  "nbformat_minor": 0,
  "metadata": {
    "colab": {
      "name": "Untitled1.ipynb",
      "provenance": [],
      "authorship_tag": "ABX9TyO5ym5/WSgFe/oquD9V9+wh",
      "include_colab_link": true
    },
    "kernelspec": {
      "name": "python3",
      "display_name": "Python 3"
    }
  },
  "cells": [
    {
      "cell_type": "markdown",
      "metadata": {
        "id": "view-in-github",
        "colab_type": "text"
      },
      "source": [
        "<a href=\"https://colab.research.google.com/github/21alan/daa_20021_1/blob/master/Untitled1.ipynb\" target=\"_parent\"><img src=\"https://colab.research.google.com/assets/colab-badge.svg\" alt=\"Open In Colab\"/></a>"
      ]
    },
    {
      "cell_type": "markdown",
      "metadata": {
        "id": "-nKcpb4TSs7x"
      },
      "source": [
        "#busqueda lineal\n",
        "Dada un conjunto de datos ordenados, la buqueda lineal consiste en recorrer el conjunto de datos desde el inicio al final, moviendose de uno en uno hasta encontrar el elemento o llegar al final del conjunto.\n",
        "\n",
        "datos = [ 4,18,47,2,34,14,78,12,48,21,31,19,1,3,5]\n",
        "\n",
        "#Buqueda binaria \n",
        "funciona sobre un conjunto de datos lineal ordenado.\n",
        "consiste en dividir el conjunto en mitades y buscar en esa mitad, preguntas si el elemento esta a la derecha o a la izquierda.\n",
        "Haces la lista igual a la mitad correspondiente y repites el proceso.\n",
        "\n",
        "L=[1, 2, 3, 4, 5, 12, 14, 18, 19, 21, 31, 34, 47, 48, 78]\n",
        "\n",
        "DER=longitud(L)-1\n",
        "\n",
        "IZQ=0\n",
        "\n",
        "MID apuntara a la mitad del segmento de busqueda\n",
        "buscado: es el valor a buscar (47)\n",
        "\n",
        "1. Hacer DER=longitud(L)-1\n",
        "2. Hacer IZQ=0\n",
        "3. si IZQ>DER significa que hay un error en los datos entonce terminamos la busqueda\n",
        "4. Calcular MID= int((IZQ+DER)/2)\n",
        "5. Mientras L(MID)!= buscado\n",
        "6. -preguntar L(MID)> buscado \n",
        "- hacer que DER=MID \n",
        "- de lo contrario hacer IZQ=MID\n",
        "- preguntar (DER-IZQ)%2 == 0\n",
        "  - MID=(IZQ+((DER-IZQ)/2))+1\n",
        "-de lo contrario \n",
        " - MID=IZQ+((DER-IZQ)/2)\n",
        " \n",
        "\n"
      ]
    },
    {
      "cell_type": "code",
      "metadata": {
        "id": "1oPgVbRASeJh",
        "outputId": "89f55793-7ede-4c5b-f1a8-b905f89bb90c",
        "colab": {
          "base_uri": "https://localhost:8080/"
        }
      },
      "source": [
        "\"\"\"\n",
        "Busqueda lineal\n",
        "regresa la posicion del elemento buscado si encuentra dentro de la lista.\n",
        "regresa -1 si elemento buscado no existe dentro de la lista\n",
        "\"\"\"\n",
        "def busq_lineal(L,buscado):\n",
        "  indice=-1\n",
        "  contador=0\n",
        "  for i in range(len(L)):\n",
        "    contador+=1\n",
        "    if L[i]==buscado:\n",
        "      indice=i\n",
        "      break\n",
        "  print(\"numero de iteraciones realizadas\",contador)\n",
        "  return indice\n",
        "\"\"\"\n",
        "Busqueda binaria\n",
        "\"\"\"\n",
        "def busqueda_binaria(L,buscado):\n",
        "  IZQ=0\n",
        "  DER=len(L)-1\n",
        "  MID=int((IZQ+DER)//2)\n",
        "  if len(L)%2==0:\n",
        "    MID=(DER//2)+1\n",
        "  else:\n",
        "    MID=DER//2\n",
        "  while (L[MID] != buscado):\n",
        "    if L[MID]>buscado:\n",
        "      DER=MID\n",
        "    else:\n",
        "      IZQ=MID\n",
        "    MID=int((IZQ+DER)//2)\n",
        "  return MID\n",
        "         \n",
        "def main():\n",
        "  datos = [ 4,18,47,2,34,14,78,12,48,21,31,19,1,3,5]\n",
        "  dato=int(input(\"Que valor deseas buscar: \"))\n",
        "  resultado=busq_lineal(datos,dato)\n",
        "  print(\"Resultado:\",resultado)\n",
        "  print(\"Busqueda linel sobre una lista ordenada\")\n",
        "  datos.sort()\n",
        "  print(datos)\n",
        "  resultado=busq_lineal(datos,dato)\n",
        "  print(\"Resultado:\",resultado)\n",
        "  print(\"resultado busqueda binaria\",busqueda_binaria(datos,dato))\n",
        "main()\n",
        "\n"
      ],
      "execution_count": 15,
      "outputs": [
        {
          "output_type": "stream",
          "text": [
            "Que valor deseas buscar: 14\n",
            "numero de iteraciones realizadas 6\n",
            "Resultado: 5\n",
            "Busqueda linel sobre una lista ordenada\n",
            "[1, 2, 3, 4, 5, 12, 14, 18, 19, 21, 31, 34, 47, 48, 78]\n",
            "numero de iteraciones realizadas 7\n",
            "Resultado: 6\n",
            "resultado busqueda binaria 6\n"
          ],
          "name": "stdout"
        }
      ]
    }
  ]
}