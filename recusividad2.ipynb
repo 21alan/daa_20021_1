{
  "nbformat": 4,
  "nbformat_minor": 0,
  "metadata": {
    "colab": {
      "name": "recusividad2.ipynb",
      "provenance": [],
      "authorship_tag": "ABX9TyPXWW+u88/Cpl/2JFRoPv72",
      "include_colab_link": true
    },
    "kernelspec": {
      "name": "python3",
      "display_name": "Python 3"
    }
  },
  "cells": [
    {
      "cell_type": "markdown",
      "metadata": {
        "id": "view-in-github",
        "colab_type": "text"
      },
      "source": [
        "<a href=\"https://colab.research.google.com/github/21alan/daa_20021_1/blob/master/recusividad2.ipynb\" target=\"_parent\"><img src=\"https://colab.research.google.com/assets/colab-badge.svg\" alt=\"Open In Colab\"/></a>"
      ]
    },
    {
      "cell_type": "code",
      "metadata": {
        "colab": {
          "base_uri": "https://localhost:8080/"
        },
        "id": "wK_rIw1Z5CTo",
        "outputId": "783cb62b-f198-4400-b866-a748125d8f9a"
      },
      "source": [
        "def recur(bd,key,i,iz,de):\n",
        "    medio=(iz+de)//2\n",
        "    if i>=len(bd):\n",
        "        print(\"el alumno no exite\")\n",
        "        return 0\n",
        "    if bd[medio][\"id\"] == key:\n",
        "        print(bd[medio][\"nombre\"],\"estudia la carrera\",bd[medio][\"carrera\"],\"y tiene un promedio de\",bd[medio][\"promedio\"])\n",
        "        return 0\n",
        "    i=i+1\n",
        "    if key > bd[medio][\"id\"]:\n",
        "        recur(bd,key,i,medio,de)\n",
        "    if key < bd[medio][\"id\"]:\n",
        "        recur(bd,key,i,iz,medio)\n",
        "    \n",
        "\n",
        "\n",
        "alumno1={'id':2, 'nombre':\"Juan\" , 'carrera':\"ICO\", 'promedio':7.67}\n",
        "alumno2={'id':4, 'nombre':\"Rocio\" , 'carrera':\"ICI\", 'promedio':8.67}\n",
        "alumno3={'id':5, 'nombre':\"Diego\" , 'carrera':\"DER\", 'promedio':8.98}\n",
        "alumno4={'id':7, 'nombre':\"May\" , 'carrera':\"ICI\", 'promedio':9.87}\n",
        "alumno5={'id':9, 'nombre':\"Rob\" , 'carrera':\"IME\", 'promedio':10.00}\n",
        "alumno6={'id':10, 'nombre':\"Santi\" , 'carrera':\"ICO\", 'promedio':5.37}\n",
        "alumno7={'id':14, 'nombre':\"Moy\" , 'carrera':\"IME\", 'promedio':6.85}\n",
        "alumno8={'id':16, 'nombre':\"Diana\" , 'carrera':\"DER\", 'promedio':9.99}\n",
        "alumno9={'id':19, 'nombre':\"Zoila\" , 'carrera':\"ICO\", 'promedio':8.22}\n",
        "alumno10={'id':22, 'nombre':\"Armando\" , 'carrera':\"ICO\", 'promedio':7.32}\n",
        "\n",
        "bd = []\n",
        "bd.append(alumno1)\n",
        "bd.append(alumno2)\n",
        "bd.append(alumno3)\n",
        "bd.append(alumno4)\n",
        "bd.append(alumno5)\n",
        "bd.append(alumno6)\n",
        "bd.append(alumno7)\n",
        "bd.append(alumno8)\n",
        "bd.append(alumno9)\n",
        "bd.append(alumno10)\n",
        "\n",
        "key=int(input(\"¿Dame el id del alumno a buscar?: \"))\n",
        "recur(bd,key,0,0,len(bd))"
      ],
      "execution_count": 4,
      "outputs": [
        {
          "output_type": "stream",
          "text": [
            "¿Dame el id del alumno a buscar?: 19\n",
            "Zoila estudia la carrera ICO y tiene un promedio de 8.22\n"
          ],
          "name": "stdout"
        }
      ]
    }
  ]
}