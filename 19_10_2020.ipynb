{
  "nbformat": 4,
  "nbformat_minor": 0,
  "metadata": {
    "colab": {
      "name": "19/10/2020.ipynb",
      "provenance": [],
      "collapsed_sections": [],
      "authorship_tag": "ABX9TyNYDFGUR3wlVHRohDJ9E0Ws",
      "include_colab_link": true
    },
    "kernelspec": {
      "name": "python3",
      "display_name": "Python 3"
    }
  },
  "cells": [
    {
      "cell_type": "markdown",
      "metadata": {
        "id": "view-in-github",
        "colab_type": "text"
      },
      "source": [
        "<a href=\"https://colab.research.google.com/github/21alan/daa_20021_1/blob/master/19_10_2020.ipynb\" target=\"_parent\"><img src=\"https://colab.research.google.com/assets/colab-badge.svg\" alt=\"Open In Colab\"/></a>"
      ]
    },
    {
      "cell_type": "code",
      "metadata": {
        "id": "x4GunquAOe5Q",
        "outputId": "f9a9292b-a2fc-4c27-e84d-8ac50ebc818b",
        "colab": {
          "base_uri": "https://localhost:8080/",
          "height": 272
        }
      },
      "source": [
        "a2d = [[3, 2, 1], \n",
        "      [6, 4, 8], \n",
        "      [7, 4, 2]]\n",
        "\n",
        "n = 3\n",
        "print (ad2)\n",
        "\n",
        "total = 0 # 1 \n",
        "print(\"nivel 1\")\n",
        "for ren in range (n):\n",
        "    sumaRenglon = 0 \n",
        "    print(\"nivel 2 \")\n",
        "    for col in range (n):\n",
        "      sumaRenglon += a2d[ren][col]\n",
        "      total += a2d[ren][col]\n",
        "      print(\"nivel 3\")\n",
        "\n",
        "print(total)\n"
      ],
      "execution_count": 5,
      "outputs": [
        {
          "output_type": "stream",
          "text": [
            "[[3, 2, 1], [6, 4, 8], [7, 4, 2]]\n",
            "nivel 1\n",
            "nivel 2 \n",
            "nivel 3\n",
            "nivel 3\n",
            "nivel 3\n",
            "nivel 2 \n",
            "nivel 3\n",
            "nivel 3\n",
            "nivel 3\n",
            "nivel 2 \n",
            "nivel 3\n",
            "nivel 3\n",
            "nivel 3\n",
            "37\n"
          ],
          "name": "stdout"
        }
      ]
    }
  ]
}