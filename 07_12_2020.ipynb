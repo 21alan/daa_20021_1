{
  "nbformat": 4,
  "nbformat_minor": 0,
  "metadata": {
    "colab": {
      "name": "02/12/2020.ipynb",
      "provenance": [],
      "authorship_tag": "ABX9TyM8ioT2Mqc0dvVXgQE1YOpe",
      "include_colab_link": true
    },
    "kernelspec": {
      "name": "python3",
      "display_name": "Python 3"
    }
  },
  "cells": [
    {
      "cell_type": "markdown",
      "metadata": {
        "id": "view-in-github",
        "colab_type": "text"
      },
      "source": [
        "<a href=\"https://colab.research.google.com/github/21alan/daa_20021_1/blob/master/07_12_2020.ipynb\" target=\"_parent\"><img src=\"https://colab.research.google.com/assets/colab-badge.svg\" alt=\"Open In Colab\"/></a>"
      ]
    },
    {
      "cell_type": "code",
      "metadata": {
        "id": "_neX702IFN86"
      },
      "source": [
        "def fnRecInfinita():\n",
        "    print(\"Hola\")\n",
        "    fnRecInfinita()\n",
        "fnRecInfinita()"
      ],
      "execution_count": null,
      "outputs": []
    },
    {
      "cell_type": "code",
      "metadata": {
        "colab": {
          "base_uri": "https://localhost:8080/"
        },
        "id": "XKnarc8a7Aws",
        "outputId": "2524f0a2-d9bc-4a11-aede-7d586336a59d"
      },
      "source": [
        "def fnRec( x ):\n",
        "  if x == 0:\n",
        "    print(\"Stop\")\n",
        "  else:\n",
        "    fnRec( x-1 )\n",
        "    print( x )\n",
        "\n",
        "print(\"Inicio del programa\")\n",
        "fnRec( 5 )\n",
        "print(\"Fin del programa\")\n"
      ],
      "execution_count": null,
      "outputs": [
        {
          "output_type": "stream",
          "text": [
            "Inicio del programa\n",
            "Stop\n",
            "1\n",
            "2\n",
            "3\n",
            "4\n",
            "5\n",
            "Fin del programa\n"
          ],
          "name": "stdout"
        }
      ]
    },
    {
      "cell_type": "code",
      "metadata": {
        "colab": {
          "base_uri": "https://localhost:8080/"
        },
        "id": "uJj6mllVFLnR",
        "outputId": "a1503a2c-86f0-4752-c834-769d6bc27e56"
      },
      "source": [
        "def printRev( x ):\n",
        "    if x > 0:\n",
        "        printRev( x - 1)\n",
        "        print( x )\n",
        "\n",
        "printRev( 3 )"
      ],
      "execution_count": null,
      "outputs": [
        {
          "output_type": "stream",
          "text": [
            "1\n",
            "2\n",
            "3\n"
          ],
          "name": "stdout"
        }
      ]
    },
    {
      "cell_type": "code",
      "metadata": {
        "colab": {
          "base_uri": "https://localhost:8080/"
        },
        "id": "J-h_xZyrIpMC",
        "outputId": "ae8577b1-9222-493c-e2ff-4dee6a010d51"
      },
      "source": [
        "def fibonacci(n):\n",
        "  print(\"llamada:\",n)\n",
        "  if n==0 or n==1:\n",
        "    return n\n",
        "  else:\n",
        "    return fibonacci(n-1)+fibonacci(n-2)\n",
        "fibonacci(8)"
      ],
      "execution_count": 6,
      "outputs": [
        {
          "output_type": "stream",
          "text": [
            "llamada: 8\n",
            "llamada: 7\n",
            "llamada: 6\n",
            "llamada: 5\n",
            "llamada: 4\n",
            "llamada: 3\n",
            "llamada: 2\n",
            "llamada: 1\n",
            "llamada: 0\n",
            "llamada: 1\n",
            "llamada: 2\n",
            "llamada: 1\n",
            "llamada: 0\n",
            "llamada: 3\n",
            "llamada: 2\n",
            "llamada: 1\n",
            "llamada: 0\n",
            "llamada: 1\n",
            "llamada: 4\n",
            "llamada: 3\n",
            "llamada: 2\n",
            "llamada: 1\n",
            "llamada: 0\n",
            "llamada: 1\n",
            "llamada: 2\n",
            "llamada: 1\n",
            "llamada: 0\n",
            "llamada: 5\n",
            "llamada: 4\n",
            "llamada: 3\n",
            "llamada: 2\n",
            "llamada: 1\n",
            "llamada: 0\n",
            "llamada: 1\n",
            "llamada: 2\n",
            "llamada: 1\n",
            "llamada: 0\n",
            "llamada: 3\n",
            "llamada: 2\n",
            "llamada: 1\n",
            "llamada: 0\n",
            "llamada: 1\n",
            "llamada: 6\n",
            "llamada: 5\n",
            "llamada: 4\n",
            "llamada: 3\n",
            "llamada: 2\n",
            "llamada: 1\n",
            "llamada: 0\n",
            "llamada: 1\n",
            "llamada: 2\n",
            "llamada: 1\n",
            "llamada: 0\n",
            "llamada: 3\n",
            "llamada: 2\n",
            "llamada: 1\n",
            "llamada: 0\n",
            "llamada: 1\n",
            "llamada: 4\n",
            "llamada: 3\n",
            "llamada: 2\n",
            "llamada: 1\n",
            "llamada: 0\n",
            "llamada: 1\n",
            "llamada: 2\n",
            "llamada: 1\n",
            "llamada: 0\n"
          ],
          "name": "stdout"
        },
        {
          "output_type": "execute_result",
          "data": {
            "text/plain": [
              "21"
            ]
          },
          "metadata": {
            "tags": []
          },
          "execution_count": 6
        }
      ]
    }
  ]
}