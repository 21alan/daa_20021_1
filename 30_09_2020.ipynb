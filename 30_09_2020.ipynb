{
  "nbformat": 4,
  "nbformat_minor": 0,
  "metadata": {
    "colab": {
      "name": "30/09/2020",
      "provenance": [],
      "authorship_tag": "ABX9TyMU3IKgtDNnWzq5AN+5d8fT",
      "include_colab_link": true
    },
    "kernelspec": {
      "name": "python3",
      "display_name": "Python 3"
    }
  },
  "cells": [
    {
      "cell_type": "markdown",
      "metadata": {
        "id": "view-in-github",
        "colab_type": "text"
      },
      "source": [
        "<a href=\"https://colab.research.google.com/github/21alan/daa_20021_1/blob/master/30_09_2020.ipynb\" target=\"_parent\"><img src=\"https://colab.research.google.com/assets/colab-badge.svg\" alt=\"Open In Colab\"/></a>"
      ]
    },
    {
      "cell_type": "markdown",
      "metadata": {
        "id": "AFZgnImsQHMW"
      },
      "source": [
        "#palindromos\n",
        "Es una palabra que se lee, de igual de un sentido y de sentido inverso.\n",
        "ejemplo:\n",
        "1. sugus\n",
        "2. oso\n",
        "3. reconocer\n",
        "4. 10101\n",
        "5. 10:01\n",
        "etc\n",
        "###Planteamiento del programa\n",
        "se desea encontrar todos los palndromos que existen en la franja horarioa de un dia completo, toando como horario inicial las 00:00 y como final las 23:59 horas.\n",
        "El algoritmo debe mostrar todos los palindromos en pantalla todos los palindromos extistentes en ese rango al final debe mostrar el correo de total de palindromos existentes.\n"
      ]
    },
    {
      "cell_type": "code",
      "metadata": {
        "id": "V7QMBDGNRpWf",
        "outputId": "32b17f88-f315-4177-b927-50166e76672b",
        "colab": {
          "base_uri": "https://localhost:8080/",
          "height": 306
        }
      },
      "source": [
        "lista=[]\n",
        "for i in range(0,24,1):\n",
        "  for j in range(0,60,1):\n",
        "    if i<10:\n",
        "      if j<10:\n",
        "        lista.append(\"0\"+str(i)+\":\"+\"0\"+str(j))\n",
        "      elif j>=10:\n",
        "        lista.append(\"0\"+str(i)+\":\"+str(j))\n",
        "    else:\n",
        "      if i>=10:\n",
        "        if j<10:\n",
        "          lista.append(str(i)+\":\"+\"0\"+str(j))\n",
        "        elif j>=10:\n",
        "          lista.append(str(i)+\":\"+str(j))\n",
        "\n",
        " \n",
        "lista2=[]\n",
        "contador=0\n",
        "for i in range(len(lista)):\n",
        "  x=lista[i][::-1]\n",
        "  if x==lista[i]:\n",
        "    lista2.append(x)\n",
        "    contador=contador+1\n",
        "print(contador)\n",
        "for j in (lista2):\n",
        "  print(j)\n",
        "\n",
        "\n",
        "\n",
        "\n",
        "\n",
        "\n",
        "\n",
        "\n",
        "\n",
        "\n",
        "\n"
      ],
      "execution_count": 42,
      "outputs": [
        {
          "output_type": "stream",
          "text": [
            "16\n",
            "00:00\n",
            "01:10\n",
            "02:20\n",
            "03:30\n",
            "04:40\n",
            "05:50\n",
            "10:01\n",
            "11:11\n",
            "12:21\n",
            "13:31\n",
            "14:41\n",
            "15:51\n",
            "20:02\n",
            "21:12\n",
            "22:22\n",
            "23:32\n"
          ],
          "name": "stdout"
        }
      ]
    }
  ]
}