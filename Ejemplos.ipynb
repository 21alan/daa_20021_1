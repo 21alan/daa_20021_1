{
  "nbformat": 4,
  "nbformat_minor": 0,
  "metadata": {
    "colab": {
      "name": "Untitled3.ipynb",
      "provenance": [],
      "authorship_tag": "ABX9TyP6uWn9Ydz4BnsYG6OQZy0R",
      "include_colab_link": true
    },
    "kernelspec": {
      "name": "python3",
      "display_name": "Python 3"
    }
  },
  "cells": [
    {
      "cell_type": "markdown",
      "metadata": {
        "id": "view-in-github",
        "colab_type": "text"
      },
      "source": [
        "<a href=\"https://colab.research.google.com/github/21alan/daa_20021_1/blob/master/Ejemplos.ipynb\" target=\"_parent\"><img src=\"https://colab.research.google.com/assets/colab-badge.svg\" alt=\"Open In Colab\"/></a>"
      ]
    },
    {
      "cell_type": "code",
      "metadata": {
        "id": "M6OwFhUi2jFD",
        "outputId": "07baf45d-4e9c-4c61-a6f6-3cfb6a559e81",
        "colab": {
          "base_uri": "https://localhost:8080/",
          "height": 187
        }
      },
      "source": [
        "from time import time\n",
        "\n",
        "def ejemplo1( n ):\n",
        "    start_time = time()\n",
        "    c = n + 1\n",
        "    d = c * n\n",
        "    e = n * n\n",
        "    total = c + e - d\n",
        "    elapsed_time = time() - start_time\n",
        "    print(\"Tiempo transcurrido: %0.10f segundos.\" % elapsed_time)\n",
        "    return total\n",
        "for i in range(100,1100,100):\n",
        "  ejemplo1(i)\n",
        "  "
      ],
      "execution_count": 4,
      "outputs": [
        {
          "output_type": "stream",
          "text": [
            "Tiempo transcurrido: 0.0000011921 segundos.\n",
            "Tiempo transcurrido: 0.0000011921 segundos.\n",
            "Tiempo transcurrido: 0.0000007153 segundos.\n",
            "Tiempo transcurrido: 0.0000007153 segundos.\n",
            "Tiempo transcurrido: 0.0000004768 segundos.\n",
            "Tiempo transcurrido: 0.0000002384 segundos.\n",
            "Tiempo transcurrido: 0.0000004768 segundos.\n",
            "Tiempo transcurrido: 0.0000009537 segundos.\n",
            "Tiempo transcurrido: 0.0000007153 segundos.\n",
            "Tiempo transcurrido: 0.0000009537 segundos.\n"
          ],
          "name": "stdout"
        }
      ]
    },
    {
      "cell_type": "code",
      "metadata": {
        "id": "lg0MYMlj3aJk",
        "outputId": "05e45709-638b-4ca5-81ba-28272c1005c6",
        "colab": {
          "base_uri": "https://localhost:8080/",
          "height": 187
        }
      },
      "source": [
        "from time import time\n",
        "def ejemplo2( n ):\n",
        "    start_time = time()\n",
        "    contador = 0\n",
        "    for i in range( n ) :\n",
        "        for j in range( n ) :\n",
        "            contador += 1\n",
        "    elapsed_time = time() - start_time\n",
        "    print(\"Tiempo transcurrido: %0.10f segundos.\" % elapsed_time)\n",
        "    return contador\n",
        "\n",
        "for i in range(100,1100,100):\n",
        "  ejemplo2(i)"
      ],
      "execution_count": 3,
      "outputs": [
        {
          "output_type": "stream",
          "text": [
            "Tiempo transcurrido: 0.0008659363 segundos.\n",
            "Tiempo transcurrido: 0.0022590160 segundos.\n",
            "Tiempo transcurrido: 0.0065495968 segundos.\n",
            "Tiempo transcurrido: 0.0094015598 segundos.\n",
            "Tiempo transcurrido: 0.0166239738 segundos.\n",
            "Tiempo transcurrido: 0.0207488537 segundos.\n",
            "Tiempo transcurrido: 0.0254502296 segundos.\n",
            "Tiempo transcurrido: 0.0333266258 segundos.\n",
            "Tiempo transcurrido: 0.0423462391 segundos.\n",
            "Tiempo transcurrido: 0.0553770065 segundos.\n"
          ],
          "name": "stdout"
        }
      ]
    },
    {
      "cell_type": "code",
      "metadata": {
        "id": "89DTx0jq38yp",
        "outputId": "289d80a3-241c-4dde-a6a6-6b62f3a14322",
        "colab": {
          "base_uri": "https://localhost:8080/",
          "height": 187
        }
      },
      "source": [
        "from time import time\n",
        "\n",
        "def ejemplo3( n ):\n",
        "    start_time = time()\n",
        "    x = n * 2 \n",
        "    y = 0   \n",
        "    for m in range( 100 ): \n",
        "        y = x - n\n",
        "    elapsed_time = time() - start_time\n",
        "    print(\"Tiempo transcurrido: %0.10f segundos.\" % elapsed_time)   \n",
        "    return y\n",
        "for i in range(100,1100,100):\n",
        "  ejemplo3(i)\n"
      ],
      "execution_count": 5,
      "outputs": [
        {
          "output_type": "stream",
          "text": [
            "Tiempo transcurrido: 0.0000073910 segundos.\n",
            "Tiempo transcurrido: 0.0000069141 segundos.\n",
            "Tiempo transcurrido: 0.0000078678 segundos.\n",
            "Tiempo transcurrido: 0.0000083447 segundos.\n",
            "Tiempo transcurrido: 0.0000100136 segundos.\n",
            "Tiempo transcurrido: 0.0000088215 segundos.\n",
            "Tiempo transcurrido: 0.0000076294 segundos.\n",
            "Tiempo transcurrido: 0.0000078678 segundos.\n",
            "Tiempo transcurrido: 0.0000083447 segundos.\n",
            "Tiempo transcurrido: 0.0000088215 segundos.\n"
          ],
          "name": "stdout"
        }
      ]
    },
    {
      "cell_type": "code",
      "metadata": {
        "id": "Hf0dEzId4S4q",
        "outputId": "e16546c4-2d88-4788-f0c5-de27dbb1484d",
        "colab": {
          "base_uri": "https://localhost:8080/",
          "height": 187
        }
      },
      "source": [
        "from time import time\n",
        "\n",
        "def ejemplo4( n ):\n",
        "    start_time = time()\n",
        "    x = 3 * 3.1416 + n\n",
        "    y = x + 3 * 3 - n\n",
        "    z = x + y\n",
        "    elapsed_time = time() - start_time\n",
        "    print(\"Tiempo transcurrido: %0.10f segundos.\" % elapsed_time)\n",
        "    return z\n",
        "\n",
        "for i in range(100,1100,100):\n",
        "  ejemplo4(i)"
      ],
      "execution_count": 6,
      "outputs": [
        {
          "output_type": "stream",
          "text": [
            "Tiempo transcurrido: 0.0000011921 segundos.\n",
            "Tiempo transcurrido: 0.0000011921 segundos.\n",
            "Tiempo transcurrido: 0.0000007153 segundos.\n",
            "Tiempo transcurrido: 0.0000004768 segundos.\n",
            "Tiempo transcurrido: 0.0000004768 segundos.\n",
            "Tiempo transcurrido: 0.0000007153 segundos.\n",
            "Tiempo transcurrido: 0.0000004768 segundos.\n",
            "Tiempo transcurrido: 0.0000004768 segundos.\n",
            "Tiempo transcurrido: 0.0000004768 segundos.\n",
            "Tiempo transcurrido: 0.0000004768 segundos.\n"
          ],
          "name": "stdout"
        }
      ]
    },
    {
      "cell_type": "code",
      "metadata": {
        "id": "LC1CbHkt7eI3",
        "outputId": "23689a2f-13b3-4255-cfd4-239694b58689",
        "colab": {
          "base_uri": "https://localhost:8080/",
          "height": 187
        }
      },
      "source": [
        "from time import time\n",
        "def ejemplo5( x ):\n",
        "    start_time = time()\n",
        "    n = 10\n",
        "    for j in range( 0 , x , 1 ):\n",
        "        n = j + n\n",
        "    elapsed_time = time() - start_time\n",
        "    print(\"Tiempo transcurrido: %0.10f segundos.\" % elapsed_time)\n",
        "    return n\n",
        "\n",
        "for i in range(100,1100,100):\n",
        "  ejemplo5(i)"
      ],
      "execution_count": 10,
      "outputs": [
        {
          "output_type": "stream",
          "text": [
            "Tiempo transcurrido: 0.0000097752 segundos.\n",
            "Tiempo transcurrido: 0.0000185966 segundos.\n",
            "Tiempo transcurrido: 0.0000219345 segundos.\n",
            "Tiempo transcurrido: 0.0000286102 segundos.\n",
            "Tiempo transcurrido: 0.0000441074 segundos.\n",
            "Tiempo transcurrido: 0.0000445843 segundos.\n",
            "Tiempo transcurrido: 0.0000541210 segundos.\n",
            "Tiempo transcurrido: 0.0000784397 segundos.\n",
            "Tiempo transcurrido: 0.0000786781 segundos.\n",
            "Tiempo transcurrido: 0.0000870228 segundos.\n"
          ],
          "name": "stdout"
        }
      ]
    },
    {
      "cell_type": "code",
      "metadata": {
        "id": "Gh6ByE144glz",
        "outputId": "5cb83f0b-b119-425e-c20d-f8de2c4ac865",
        "colab": {
          "base_uri": "https://localhost:8080/",
          "height": 187
        }
      },
      "source": [
        "from time import time\n",
        "def ejemplo6( n ):\n",
        "    start_time = time()\n",
        "    data=[[[1 for x in range(n)] for x in range(n)] \n",
        "          for x in range(n)]\n",
        "    suma = 0\n",
        "    for d in range(n):\n",
        "        for r in range(n):\n",
        "            for c in range(n):\n",
        "                suma += data[d][r][c]\n",
        "    elapsed_time = time() - start_time\n",
        "    print(\"Tiempo transcurrido: %0.10f segundos.\" % elapsed_time)\n",
        "    return suma\n",
        "for i in range(100,1100,100):\n",
        "  ejemplo6(i)\n"
      ],
      "execution_count": 8,
      "outputs": [
        {
          "output_type": "stream",
          "text": [
            "Tiempo transcurrido: 0.1834545135 segundos.\n",
            "Tiempo transcurrido: 1.0294792652 segundos.\n",
            "Tiempo transcurrido: 3.6268718243 segundos.\n",
            "Tiempo transcurrido: 9.3629660606 segundos.\n",
            "Tiempo transcurrido: 17.6255359650 segundos.\n",
            "Tiempo transcurrido: 32.3056001663 segundos.\n",
            "Tiempo transcurrido: 51.7217919827 segundos.\n",
            "Tiempo transcurrido: 77.4550442696 segundos.\n",
            "Tiempo transcurrido: 110.3967103958 segundos.\n",
            "Tiempo transcurrido: 155.0140032768 segundos.\n"
          ],
          "name": "stdout"
        }
      ]
    }
  ]
}