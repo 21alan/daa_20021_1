{
  "nbformat": 4,
  "nbformat_minor": 0,
  "metadata": {
    "colab": {
      "name": "pilas.ipynb",
      "provenance": [],
      "authorship_tag": "ABX9TyM7sCy7lt/MLC7mhCVHSUgu",
      "include_colab_link": true
    },
    "kernelspec": {
      "name": "python3",
      "display_name": "Python 3"
    }
  },
  "cells": [
    {
      "cell_type": "markdown",
      "metadata": {
        "id": "view-in-github",
        "colab_type": "text"
      },
      "source": [
        "<a href=\"https://colab.research.google.com/github/21alan/daa_20021_1/blob/master/pilas.ipynb\" target=\"_parent\"><img src=\"https://colab.research.google.com/assets/colab-badge.svg\" alt=\"Open In Colab\"/></a>"
      ]
    },
    {
      "cell_type": "code",
      "metadata": {
        "id": "_6s7He4Sw0bV",
        "outputId": "94ef73e8-8a50-4a2c-95d7-06f5127eade3",
        "colab": {
          "base_uri": "https://localhost:8080/"
        }
      },
      "source": [
        "class Stack:\n",
        "  def __init__(self):\n",
        "    self.__datos=[]\n",
        "  def is_empty(self):\n",
        "    return len(self.__datos)==0\n",
        "  def get_top(self):\n",
        "    return self.__datos[-1]\n",
        "  def pop(self):\n",
        "    return self.__datos.pop()\n",
        "  def push(self,valor):\n",
        "    self.__datos.append(valor)\n",
        "  def get_length(self):\n",
        "    return len(self.__datos)\n",
        "  def to_string(self):\n",
        "    print(\"-------------------------\")\n",
        "    for i in self.__datos[-1::-1]:\n",
        "      print(i)\n",
        "    print(\"-------------------------\")\n",
        "    print()\n",
        "\n",
        "\n",
        "def main():\n",
        "    pila1=Stack()\n",
        "    pila2=Stack()\n",
        "    pila3=Stack()\n",
        "    bandera1=0\n",
        "    bandera2=0\n",
        "    bandera3=0\n",
        "    opc=input(\"digita el numero que quieres probar con una 1-Balanceada o 2-No balanceada: \")\n",
        "    \n",
        "    x=\"\"\"class Stack:\n",
        "  def __init__(self):\n",
        "    self.__datos=[]\n",
        "  def is_empty(self):\n",
        "    return len(self.__datos)==0\n",
        "  def get_top(self):\n",
        "    return self.__datos[-1]\n",
        "  def pop(self):\n",
        "    return self.__datos.pop()\n",
        "  def push(self,valor):\n",
        "    self.__datos.append(valor)\n",
        "  def get_length(self):\n",
        "    return len(self.__datos)\n",
        "  def to_string(self):\n",
        "    print(\"-------------------------\")\n",
        "    for i in self.__datos[-1::-1]:\n",
        "      print(i)\n",
        "    print(\"-------------------------\")\n",
        "    print()\"\"\"\n",
        "    if opc==\"2\":\n",
        "      x=x+\"}\"\n",
        "    for i in range(0,len(x)):\n",
        "        if x[i]==\"(\":\n",
        "            pila1.push(\"@\")\n",
        "        if x[i]==\")\":\n",
        "            try:\n",
        "                pila1.pop()\n",
        "            except:\n",
        "                bandera1=1\n",
        "    for i in range(0,len(x)):\n",
        "        if x[i]==\"[\":\n",
        "            pila2.push(\"@\")\n",
        "        if x[i]==\"]\":\n",
        "            try:\n",
        "                pila2.pop()\n",
        "            except:\n",
        "                bandera2=1\n",
        "\n",
        "    for i in range(0,len(x)):\n",
        "        if x[i]==\"{\":\n",
        "            pila3.push(\"@\")\n",
        "        if x[i]==\"}\":\n",
        "            try:\n",
        "                pila3.pop()\n",
        "            except:\n",
        "                bandera3=1\n",
        "    print()\n",
        "    if bandera1==0 and bandera2==0 and bandera3==0 and pila1.get_length()==0 and pila2.get_length()==0 and pila3.get_length()==0:\n",
        "        print(\"esta balanceada\")\n",
        "    else:\n",
        "        print(\"No esta balanceada\")\n",
        "    print()\n",
        "    print(x)\n",
        "        \n",
        "main()"
      ],
      "execution_count": 26,
      "outputs": [
        {
          "output_type": "stream",
          "text": [
            "digita el numero que quieres probar con una 1-Balanceada o 2-No balanceada: 2\n",
            "\n",
            "No esta balanceada\n",
            "\n",
            "class Stack:\n",
            "  def __init__(self):\n",
            "    self.__datos=[]\n",
            "  def is_empty(self):\n",
            "    return len(self.__datos)==0\n",
            "  def get_top(self):\n",
            "    return self.__datos[-1]\n",
            "  def pop(self):\n",
            "    return self.__datos.pop()\n",
            "  def push(self,valor):\n",
            "    self.__datos.append(valor)\n",
            "  def get_length(self):\n",
            "    return len(self.__datos)\n",
            "  def to_string(self):\n",
            "    print(\"-------------------------\")\n",
            "    for i in self.__datos[-1::-1]:\n",
            "      print(i)\n",
            "    print(\"-------------------------\")\n",
            "    print()}\n"
          ],
          "name": "stdout"
        }
      ]
    }
  ]
}