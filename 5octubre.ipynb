{
  "nbformat": 4,
  "nbformat_minor": 0,
  "metadata": {
    "colab": {
      "name": "5octubre.ipynb",
      "provenance": [],
      "authorship_tag": "ABX9TyPZ6h8mQXXg/MwBdXlLVh6I",
      "include_colab_link": true
    },
    "kernelspec": {
      "name": "python3",
      "display_name": "Python 3"
    }
  },
  "cells": [
    {
      "cell_type": "markdown",
      "metadata": {
        "id": "view-in-github",
        "colab_type": "text"
      },
      "source": [
        "<a href=\"https://colab.research.google.com/github/21alan/daa_20021_1/blob/master/5octubre.ipynb\" target=\"_parent\"><img src=\"https://colab.research.google.com/assets/colab-badge.svg\" alt=\"Open In Colab\"/></a>"
      ]
    },
    {
      "cell_type": "markdown",
      "metadata": {
        "id": "INGy1T55ADes"
      },
      "source": [
        "#estructura de datos pilas(stack)\n",
        "- Last in First Out (LIFO)\n",
        "-De tipo lineal\n",
        "-Se puede obetener e ingresar datos desde el tope\n",
        "-push para agregar \n",
        "-pop para sacar\n",
        "\n",
        "##Operaciones de las pilas\n",
        "1. is_empty(regresa true o false)\n",
        "2. get_top(regresa el elemento en el tope sin sacarlo)\n",
        "3.pop (saca el elemento del tope y lo regresa)\n",
        "4.push (mete un elemento en el tope)\n",
        "5.get_length (regresa el numero de elementos en  la pila)"
      ]
    },
    {
      "cell_type": "code",
      "metadata": {
        "id": "QbiKdZxuAMFO"
      },
      "source": [
        "class Stack:\n",
        "  def __init__(self):\n",
        "    self.__datos=[]\n",
        "  def is_empty(self):\n",
        "    return len(self.__datos)==0\n",
        "  def get_top(self):\n",
        "    return self.__datos[-1]\n",
        "  def pop(self):\n",
        "    return self.__datos.pop()\n",
        "  def push(self,valor):\n",
        "    self.__datos.append(valor)\n",
        "  def get_length(self):\n",
        "    return len(self.__datos)\n",
        "  def to_string(self):\n",
        "    print(\"-------------------------\")\n",
        "    for i in self.__datos[-1::-1]:\n",
        "      print(i)\n",
        "    print(\"-------------------------\")\n",
        "    print()\n",
        "\n",
        "\n",
        "\n"
      ],
      "execution_count": 5,
      "outputs": []
    },
    {
      "cell_type": "code",
      "metadata": {
        "id": "R7QgBy0DFPnB",
        "outputId": "72dcbbfd-5be8-4098-b284-53bf9b761ef8",
        "colab": {
          "base_uri": "https://localhost:8080/",
          "height": 493
        }
      },
      "source": [
        "pila1=Stack()\n",
        "pila1.push(10)\n",
        "pila1.push(20)\n",
        "pila1.push(1)\n",
        "pila1.push(393)\n",
        "pila1.push(103)\n",
        "pila1.to_string()\n",
        "\n",
        "sacado=pila1.pop()\n",
        "print(sacado)\n",
        "pila1.to_string()\n",
        "\n",
        "pila1.push(444)\n",
        "pila1.push(233)\n",
        "pila1.to_string()\n",
        "\n",
        "print(\"El elemento en el tope es:\",pila1.get_top())\n",
        "print(\"la pila tiene\",pila1.get_length(),\"elementos\")\n",
        "print(\"¿la pila esta vacia?\",pila1.is_empty())\n"
      ],
      "execution_count": 11,
      "outputs": [
        {
          "output_type": "stream",
          "text": [
            "-------------------------\n",
            "103\n",
            "393\n",
            "1\n",
            "20\n",
            "10\n",
            "-------------------------\n",
            "\n",
            "103\n",
            "-------------------------\n",
            "393\n",
            "1\n",
            "20\n",
            "10\n",
            "-------------------------\n",
            "\n",
            "-------------------------\n",
            "233\n",
            "444\n",
            "393\n",
            "1\n",
            "20\n",
            "10\n",
            "-------------------------\n",
            "\n",
            "El elemento en el tope es: 233\n",
            "la pila tiene 6 elementos\n",
            "¿la pila esta vacia? False\n"
          ],
          "name": "stdout"
        }
      ]
    },
    {
      "cell_type": "markdown",
      "metadata": {
        "id": "yltTWgEPIrlR"
      },
      "source": [
        "#Ejemplo de aplicacion de pilas\n",
        "x = 4 + 5 + 6 + 3\n",
        "\n",
        "x = 4 + (5 + 6) + 3\n",
        "\n",
        "x = 4 + (5 + 6) + 3\n",
        "\n",
        "if(a==b) {System.out.println(b)\n",
        "\n",
        "if(a==b) {System.out.println(b}\n",
        "#reglas\n",
        "###'(' ----> push('@')\n",
        "###'(' ----> pop()\n",
        "si al final del recorrido la pila esta vacia entonces la cadena es correcta. \n",
        "\n",
        "#Tarea programar que esten balanceada\n",
        "hacer un programa que valide el balance de '( )','[]','{}'\n",
        "tomando como base  el codigo de la clase\n"
      ]
    }
  ]
}