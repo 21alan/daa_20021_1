{
  "nbformat": 4,
  "nbformat_minor": 0,
  "metadata": {
    "colab": {
      "name": "Recursividad.ipynb",
      "provenance": [],
      "authorship_tag": "ABX9TyNxzHAydJ4Ro8bLMUZc5iYI",
      "include_colab_link": true
    },
    "kernelspec": {
      "name": "python3",
      "display_name": "Python 3"
    }
  },
  "cells": [
    {
      "cell_type": "markdown",
      "metadata": {
        "id": "view-in-github",
        "colab_type": "text"
      },
      "source": [
        "<a href=\"https://colab.research.google.com/github/21alan/daa_20021_1/blob/master/Recursividad.ipynb\" target=\"_parent\"><img src=\"https://colab.research.google.com/assets/colab-badge.svg\" alt=\"Open In Colab\"/></a>"
      ]
    },
    {
      "cell_type": "code",
      "metadata": {
        "colab": {
          "base_uri": "https://localhost:8080/"
        },
        "id": "KQ5SDzIoZ5ft",
        "outputId": "498ccf5c-c341-4b3b-cca0-d2aeafecb5bc"
      },
      "source": [
        "def suma(x,i,s):\n",
        "    if i<len(x):\n",
        "        s=s+x[i]\n",
        "        suma(x,i+1,s)\n",
        "    if i==len(x)-1:\n",
        "        print(s)\n",
        "x=[4,8,10]\n",
        "suma(x,0,0)"
      ],
      "execution_count": 1,
      "outputs": [
        {
          "output_type": "stream",
          "text": [
            "22\n"
          ],
          "name": "stdout"
        }
      ]
    },
    {
      "cell_type": "code",
      "metadata": {
        "colab": {
          "base_uri": "https://localhost:8080/"
        },
        "id": "jR3i3IahaTpR",
        "outputId": "60553d0f-c96a-4a1b-84f5-16815ac04394"
      },
      "source": [
        "def contador( i ):\n",
        "    if i > 0:\n",
        "        print(i)\n",
        "        contador(   i - 1)\n",
        "contador( 3 )"
      ],
      "execution_count": 2,
      "outputs": [
        {
          "output_type": "stream",
          "text": [
            "3\n",
            "2\n",
            "1\n"
          ],
          "name": "stdout"
        }
      ]
    },
    {
      "cell_type": "code",
      "metadata": {
        "colab": {
          "base_uri": "https://localhost:8080/"
        },
        "id": "3WIkxWjUaWRX",
        "outputId": "47a4e785-6a16-4fae-b125-9c7a57310748"
      },
      "source": [
        "class Stack:\n",
        "  def __init__(self):\n",
        "    self.__datos=[]\n",
        "  def is_empty(self):\n",
        "    return len(self.__datos)==0\n",
        "  def get_top(self):\n",
        "    return self.__datos[-1]\n",
        "  def pop(self):\n",
        "    return self.__datos.pop()\n",
        "  def push(self,valor):\n",
        "    self.__datos.append(valor)\n",
        "  def get_length(self):\n",
        "    return len(self.__datos)\n",
        "  def to_string(self):\n",
        "    print(\"-------------------------\")\n",
        "    for i in self.__datos[-1::-1]:\n",
        "      print(i)\n",
        "    print(\"-------------------------\")\n",
        "    print()\n",
        "\n",
        "\n",
        "\n",
        "def medio(pila,m,x,i):\n",
        "    bandera=0\n",
        "    if m>i:\n",
        "        x=pila.pop()\n",
        "        i+=1\n",
        "        medio(pila,m,x,i)\n",
        "    if m==i:\n",
        "        pila.pop()\n",
        "    pila.push(x)\n",
        "\n",
        "pila=Stack()\n",
        "pila.push(0)\n",
        "pila.push(1)\n",
        "pila.push(2)\n",
        "pila.push(3)\n",
        "pila.push(4)\n",
        "m=pila.get_length()//2\n",
        "pila.to_string()\n",
        "medio(pila,m,0,0)\n",
        "pila.to_string()\n"
      ],
      "execution_count": 3,
      "outputs": [
        {
          "output_type": "stream",
          "text": [
            "-------------------------\n",
            "4\n",
            "3\n",
            "2\n",
            "1\n",
            "0\n",
            "-------------------------\n",
            "\n",
            "-------------------------\n",
            "4\n",
            "3\n",
            "1\n",
            "0\n",
            "-------------------------\n",
            "\n"
          ],
          "name": "stdout"
        }
      ]
    }
  ]
}