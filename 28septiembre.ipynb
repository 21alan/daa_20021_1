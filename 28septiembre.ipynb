{
  "nbformat": 4,
  "nbformat_minor": 0,
  "metadata": {
    "colab": {
      "name": "28septiembre.ipynb",
      "provenance": [],
      "toc_visible": true,
      "authorship_tag": "ABX9TyP6Myos9nbF0oBQ09kLM/o9",
      "include_colab_link": true
    },
    "kernelspec": {
      "name": "python3",
      "display_name": "Python 3"
    }
  },
  "cells": [
    {
      "cell_type": "markdown",
      "metadata": {
        "id": "view-in-github",
        "colab_type": "text"
      },
      "source": [
        "<a href=\"https://colab.research.google.com/github/21alan/daa_20021_1/blob/master/28septiembre.ipynb\" target=\"_parent\"><img src=\"https://colab.research.google.com/assets/colab-badge.svg\" alt=\"Open In Colab\"/></a>"
      ]
    },
    {
      "cell_type": "markdown",
      "metadata": {
        "id": "HT78UMimCquO"
      },
      "source": [
        "# sección 1\n",
        "\n"
      ]
    },
    {
      "cell_type": "markdown",
      "metadata": {
        "id": "qRkRX4aQDDpM"
      },
      "source": [
        "En este archivo aprenderemos a programar en python con la herramienta de colab research.Tambien aprenderemos a guardar nuestros cambios a un repositorio de github.com"
      ]
    },
    {
      "cell_type": "markdown",
      "metadata": {
        "id": "pZazb69TDwXW"
      },
      "source": [
        "##codigo de ejemplo\n",
        "`print(hola)`"
      ]
    },
    {
      "cell_type": "code",
      "metadata": {
        "id": "EbdJ6GDAGeW1",
        "outputId": "cbe42d0e-5ef4-49e2-f5b5-805507d071cd",
        "colab": {
          "base_uri": "https://localhost:8080/",
          "height": 34
        }
      },
      "source": [
        "frutas=[]\n",
        "frutas.append(\"manzana\")\n",
        "frutas.append(\"piña\")\n",
        "frutas.append(\"kiwi\")\n",
        "print(frutas)\n"
      ],
      "execution_count": 5,
      "outputs": [
        {
          "output_type": "stream",
          "text": [
            "['manzana', 'piña', 'kiwi']\n"
          ],
          "name": "stdout"
        }
      ]
    },
    {
      "cell_type": "code",
      "metadata": {
        "id": "6QSSEP9mHsKE"
      },
      "source": [
        "archivo=open(\"prueba_data.txt\",\"wt\")\n",
        "archivo.write(\"hola mundo\")\n",
        "archivo.close()\n"
      ],
      "execution_count": 7,
      "outputs": []
    }
  ]
}