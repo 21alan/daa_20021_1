{
  "nbformat": 4,
  "nbformat_minor": 0,
  "metadata": {
    "colab": {
      "name": "Untitled4.ipynb",
      "provenance": [],
      "authorship_tag": "ABX9TyPDvu/Tuw87mBslQipp416R",
      "include_colab_link": true
    },
    "kernelspec": {
      "name": "python3",
      "display_name": "Python 3"
    }
  },
  "cells": [
    {
      "cell_type": "markdown",
      "metadata": {
        "id": "view-in-github",
        "colab_type": "text"
      },
      "source": [
        "<a href=\"https://colab.research.google.com/github/21alan/daa_20021_1/blob/master/25/11/2020.ipynb\" target=\"_parent\"><img src=\"https://colab.research.google.com/assets/colab-badge.svg\" alt=\"Open In Colab\"/></a>"
      ]
    },
    {
      "cell_type": "code",
      "metadata": {
        "colab": {
          "base_uri": "https://localhost:8080/"
        },
        "id": "6UWVGFdKEdJa",
        "outputId": "e552225e-fcff-4cf0-ec36-13d8055cae15"
      },
      "source": [
        "frase= \"\"\"El lema que anima a la Universidad Nacional, Por mi raza hablará el espíritu, revela la vocación humanística con la que fue concebida. El autor de esta célebre frase, José Vasconcelos, asumió la rectoría en 1920, en una época en que las esperanzas de la Revolución aún estaban vivas,\n",
        " había una gran fé en la Patria y el ánimo redentor se extendía en el ambiente.\"\"\"\n",
        "\n",
        "frase = frase.strip().replace(\"\\n\", \" \").replace(\",\",\" \").replace(\".\",\"\").lower().split(\" \")\n",
        "print (frase)\n",
        "frecuencias= {}\n",
        "for index in range (len(frase)):\n",
        "    if frase[index] in frecuencias: #'el' in frecuencias:\n",
        "        pass\n",
        "    else: \n",
        "        frecuencias[frase[index]] =  1\n",
        "\n",
        "        for pivote in range (index +1, len(frase),1):\n",
        "          # print (frase[index], \"Comparada contra: \", frase[ pivote ])\n",
        "          if frase [index] == frase[pivote]:\n",
        "              frecuencias[frase[index]] += 1\n",
        "\n",
        "print (frecuencias)"
      ],
      "execution_count": 5,
      "outputs": [
        {
          "output_type": "stream",
          "text": [
            "['el', 'lema', 'que', 'anima', 'a', 'la', 'universidad', 'nacional', '', 'por', 'mi', 'raza', 'hablará', 'el', 'espíritu', '', 'revela', 'la', 'vocación', 'humanística', 'con', 'la', 'que', 'fue', 'concebida', 'el', 'autor', 'de', 'esta', 'célebre', 'frase', '', 'josé', 'vasconcelos', '', 'asumió', 'la', 'rectoría', 'en', '1920', '', 'en', 'una', 'época', 'en', 'que', 'las', 'esperanzas', 'de', 'la', 'revolución', 'aún', 'estaban', 'vivas', '', '', 'había', 'una', 'gran', 'fé', 'en', 'la', 'patria', 'y', 'el', 'ánimo', 'redentor', 'se', 'extendía', 'en', 'el', 'ambiente']\n",
            "{'el': 5, 'lema': 1, 'que': 3, 'anima': 1, 'a': 1, 'la': 6, 'universidad': 1, 'nacional': 1, '': 7, 'por': 1, 'mi': 1, 'raza': 1, 'hablará': 1, 'espíritu': 1, 'revela': 1, 'vocación': 1, 'humanística': 1, 'con': 1, 'fue': 1, 'concebida': 1, 'autor': 1, 'de': 2, 'esta': 1, 'célebre': 1, 'frase': 1, 'josé': 1, 'vasconcelos': 1, 'asumió': 1, 'rectoría': 1, 'en': 5, '1920': 1, 'una': 2, 'época': 1, 'las': 1, 'esperanzas': 1, 'revolución': 1, 'aún': 1, 'estaban': 1, 'vivas': 1, 'había': 1, 'gran': 1, 'fé': 1, 'patria': 1, 'y': 1, 'ánimo': 1, 'redentor': 1, 'se': 1, 'extendía': 1, 'ambiente': 1}\n"
          ],
          "name": "stdout"
        }
      ]
    },
    {
      "cell_type": "code",
      "metadata": {
        "colab": {
          "base_uri": "https://localhost:8080/"
        },
        "id": "J8iKVHzCFsMH",
        "outputId": "d6e1e748-3bf2-4272-ebb9-48786a7298a2"
      },
      "source": [
        "frase= \"\"\"El lema que anima a la Universidad Nacional, Por mi raza hablará el espíritu, revela la vocación humanística con la que fue concebida. El autor de esta célebre frase, José Vasconcelos, asumió la rectoría en 1920, en una época en que las esperanzas de la Revolución aún estaban vivas,\n",
        " había una gran fé en la Patria y el ánimo redentor se extendía en el ambiente.\"\"\"\n",
        "\n",
        "frase = frase.strip().replace(\"\\n\", \" \").replace(\",\",\" \").replace(\".\",\"\").lower().split(\" \")\n",
        "print (frase)\n",
        "frecuencias= {}\n",
        "for i in range(len(frase)):\n",
        "  print(hash(frase[i]))\n",
        "  if frase[i] in frecuencias:\n",
        "    frecuencias[frase[i]]+=1\n",
        "  else:\n",
        "    frecuencias[frase[i]]=1\n",
        "print(frecuencias)"
      ],
      "execution_count": 9,
      "outputs": [
        {
          "output_type": "stream",
          "text": [
            "['el', 'lema', 'que', 'anima', 'a', 'la', 'universidad', 'nacional', '', 'por', 'mi', 'raza', 'hablará', 'el', 'espíritu', '', 'revela', 'la', 'vocación', 'humanística', 'con', 'la', 'que', 'fue', 'concebida', 'el', 'autor', 'de', 'esta', 'célebre', 'frase', '', 'josé', 'vasconcelos', '', 'asumió', 'la', 'rectoría', 'en', '1920', '', 'en', 'una', 'época', 'en', 'que', 'las', 'esperanzas', 'de', 'la', 'revolución', 'aún', 'estaban', 'vivas', '', '', 'había', 'una', 'gran', 'fé', 'en', 'la', 'patria', 'y', 'el', 'ánimo', 'redentor', 'se', 'extendía', 'en', 'el', 'ambiente']\n",
            "4414606981460129363\n",
            "3240794523662775066\n",
            "-493063245232712844\n",
            "1758700320529515539\n",
            "3529418419806701653\n",
            "-4029368018169684389\n",
            "-1183904108193240516\n",
            "6325387509959979270\n",
            "0\n",
            "-1632459148691180853\n",
            "-7213632892078628718\n",
            "-5617640610475271860\n",
            "-7617797199483327881\n",
            "4414606981460129363\n",
            "-9110391515852714935\n",
            "0\n",
            "2186294965903527722\n",
            "-4029368018169684389\n",
            "-5046515774682735345\n",
            "-4826923775993411602\n",
            "6821123931889093272\n",
            "-4029368018169684389\n",
            "-493063245232712844\n",
            "1528611482233806981\n",
            "-2065925361856121480\n",
            "4414606981460129363\n",
            "-4773002042257202630\n",
            "-910319187451351587\n",
            "-4629258809672785624\n",
            "2219487494868290183\n",
            "1646047653531684645\n",
            "0\n",
            "4367213703523280225\n",
            "-7393205502235921346\n",
            "0\n",
            "5134481321877759467\n",
            "-4029368018169684389\n",
            "4397741514090936733\n",
            "1006147565931737563\n",
            "546100165469718754\n",
            "0\n",
            "1006147565931737563\n",
            "1796914960624985147\n",
            "-7589891039144674593\n",
            "1006147565931737563\n",
            "-493063245232712844\n",
            "1082397255354785978\n",
            "-4962002470852002500\n",
            "-910319187451351587\n",
            "-4029368018169684389\n",
            "-6699764898128379961\n",
            "279459021986428335\n",
            "-107072472184577465\n",
            "216560579194579985\n",
            "0\n",
            "0\n",
            "-8584338040942297622\n",
            "1796914960624985147\n",
            "5469148575000858957\n",
            "2689177779233881601\n",
            "1006147565931737563\n",
            "-4029368018169684389\n",
            "-3109584118615967352\n",
            "7483874585441614755\n",
            "4414606981460129363\n",
            "-6260422034977923026\n",
            "-4887636969320229909\n",
            "-8934550120932265936\n",
            "-2440248065323992443\n",
            "1006147565931737563\n",
            "4414606981460129363\n",
            "5344714668246528237\n",
            "{'el': 5, 'lema': 1, 'que': 3, 'anima': 1, 'a': 1, 'la': 6, 'universidad': 1, 'nacional': 1, '': 7, 'por': 1, 'mi': 1, 'raza': 1, 'hablará': 1, 'espíritu': 1, 'revela': 1, 'vocación': 1, 'humanística': 1, 'con': 1, 'fue': 1, 'concebida': 1, 'autor': 1, 'de': 2, 'esta': 1, 'célebre': 1, 'frase': 1, 'josé': 1, 'vasconcelos': 1, 'asumió': 1, 'rectoría': 1, 'en': 5, '1920': 1, 'una': 2, 'época': 1, 'las': 1, 'esperanzas': 1, 'revolución': 1, 'aún': 1, 'estaban': 1, 'vivas': 1, 'había': 1, 'gran': 1, 'fé': 1, 'patria': 1, 'y': 1, 'ánimo': 1, 'redentor': 1, 'se': 1, 'extendía': 1, 'ambiente': 1}\n"
          ],
          "name": "stdout"
        }
      ]
    }
  ]
}